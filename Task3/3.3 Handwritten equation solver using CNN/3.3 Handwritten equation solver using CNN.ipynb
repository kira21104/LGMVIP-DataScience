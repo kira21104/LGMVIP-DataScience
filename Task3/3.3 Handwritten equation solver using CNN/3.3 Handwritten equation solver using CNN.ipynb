{
 "cells": [
  {
   "cell_type": "code",
   "execution_count": 3,
   "id": "ada0905b-b5a4-472f-aa71-aa97f8ea2914",
   "metadata": {},
   "outputs": [
    {
     "name": "stdout",
     "output_type": "stream",
     "text": [
      "Collecting opencv-python\n",
      "  Obtaining dependency information for opencv-python from https://files.pythonhosted.org/packages/c7/ec/9dabb6a9abfdebb3c45b0cc52dec901caafef2b2c7e7d6a839ed86d81e91/opencv_python-4.9.0.80-cp37-abi3-win_amd64.whl.metadata\n",
      "  Downloading opencv_python-4.9.0.80-cp37-abi3-win_amd64.whl.metadata (20 kB)\n",
      "Requirement already satisfied: numpy>=1.21.2 in d:\\users\\irina\\anaconda3\\lib\\site-packages (from opencv-python) (1.24.3)\n",
      "Downloading opencv_python-4.9.0.80-cp37-abi3-win_amd64.whl (38.6 MB)\n",
      "   ---------------------------------------- 0.0/38.6 MB ? eta -:--:--\n",
      "   ---------------------------------------- 0.0/38.6 MB 660.6 kB/s eta 0:00:59\n",
      "   ---------------------------------------- 0.1/38.6 MB 825.8 kB/s eta 0:00:47\n",
      "   ---------------------------------------- 0.1/38.6 MB 1.1 MB/s eta 0:00:37\n",
      "   ---------------------------------------- 0.2/38.6 MB 1.4 MB/s eta 0:00:28\n",
      "   ---------------------------------------- 0.4/38.6 MB 1.8 MB/s eta 0:00:22\n",
      "    --------------------------------------- 0.5/38.6 MB 2.0 MB/s eta 0:00:19\n",
      "   - -------------------------------------- 1.0/38.6 MB 3.2 MB/s eta 0:00:12\n",
      "   - -------------------------------------- 1.8/38.6 MB 5.1 MB/s eta 0:00:08\n",
      "   -- ------------------------------------- 2.5/38.6 MB 6.2 MB/s eta 0:00:06\n",
      "   ---- ----------------------------------- 4.2/38.6 MB 9.2 MB/s eta 0:00:04\n",
      "   ---- ----------------------------------- 4.6/38.6 MB 9.6 MB/s eta 0:00:04\n",
      "   ------ --------------------------------- 6.5/38.6 MB 12.1 MB/s eta 0:00:03\n",
      "   -------- ------------------------------- 8.6/38.6 MB 14.9 MB/s eta 0:00:03\n",
      "   ---------- ----------------------------- 10.4/38.6 MB 21.1 MB/s eta 0:00:02\n",
      "   ------------ --------------------------- 12.2/38.6 MB 32.8 MB/s eta 0:00:01\n",
      "   -------------- ------------------------- 13.7/38.6 MB 34.4 MB/s eta 0:00:01\n",
      "   --------------- ------------------------ 14.8/38.6 MB 38.5 MB/s eta 0:00:01\n",
      "   --------------- ------------------------ 14.8/38.6 MB 38.5 MB/s eta 0:00:01\n",
      "   --------------- ------------------------ 14.8/38.6 MB 38.5 MB/s eta 0:00:01\n",
      "   --------------- ------------------------ 14.8/38.6 MB 38.5 MB/s eta 0:00:01\n",
      "   ---------------- ----------------------- 15.7/38.6 MB 25.1 MB/s eta 0:00:01\n",
      "   ---------------- ----------------------- 16.1/38.6 MB 21.8 MB/s eta 0:00:02\n",
      "   ----------------- ---------------------- 16.5/38.6 MB 21.1 MB/s eta 0:00:02\n",
      "   ------------------ --------------------- 17.4/38.6 MB 19.2 MB/s eta 0:00:02\n",
      "   ------------------ --------------------- 17.4/38.6 MB 19.2 MB/s eta 0:00:02\n",
      "   ------------------ --------------------- 18.3/38.6 MB 17.2 MB/s eta 0:00:02\n",
      "   ------------------- -------------------- 19.2/38.6 MB 16.0 MB/s eta 0:00:02\n",
      "   -------------------- ------------------- 19.4/38.6 MB 15.2 MB/s eta 0:00:02\n",
      "   -------------------- ------------------- 20.0/38.6 MB 14.9 MB/s eta 0:00:02\n",
      "   --------------------- ------------------ 20.6/38.6 MB 13.9 MB/s eta 0:00:02\n",
      "   --------------------- ------------------ 21.2/38.6 MB 13.6 MB/s eta 0:00:02\n",
      "   ---------------------- ----------------- 21.9/38.6 MB 12.8 MB/s eta 0:00:02\n",
      "   ----------------------- ---------------- 22.3/38.6 MB 12.1 MB/s eta 0:00:02\n",
      "   ------------------------ --------------- 23.4/38.6 MB 11.9 MB/s eta 0:00:02\n",
      "   ------------------------ --------------- 23.8/38.6 MB 11.7 MB/s eta 0:00:02\n",
      "   -------------------------- ------------- 25.7/38.6 MB 14.2 MB/s eta 0:00:01\n",
      "   ---------------------------- ----------- 27.8/38.6 MB 18.7 MB/s eta 0:00:01\n",
      "   ------------------------------ --------- 29.1/38.6 MB 20.5 MB/s eta 0:00:01\n",
      "   -------------------------------- ------- 31.0/38.6 MB 26.2 MB/s eta 0:00:01\n",
      "   --------------------------------- ------ 32.7/38.6 MB 34.4 MB/s eta 0:00:01\n",
      "   ------------------------------------ --- 35.1/38.6 MB 43.5 MB/s eta 0:00:01\n",
      "   ------------------------------------- -- 36.3/38.6 MB 36.4 MB/s eta 0:00:01\n",
      "   ---------------------------------------  38.0/38.6 MB 34.4 MB/s eta 0:00:01\n",
      "   ---------------------------------------  38.6/38.6 MB 36.4 MB/s eta 0:00:01\n",
      "   ---------------------------------------  38.6/38.6 MB 36.4 MB/s eta 0:00:01\n",
      "   ---------------------------------------  38.6/38.6 MB 36.4 MB/s eta 0:00:01\n",
      "   ---------------------------------------- 38.6/38.6 MB 25.2 MB/s eta 0:00:00\n",
      "Installing collected packages: opencv-python\n",
      "Successfully installed opencv-python-4.9.0.80\n"
     ]
    }
   ],
   "source": [
    "!pip install opencv-python"
   ]
  },
  {
   "cell_type": "code",
   "execution_count": 31,
   "id": "a7506a6a-c8b3-4f28-9e7b-0aacba399808",
   "metadata": {},
   "outputs": [],
   "source": [
    "import os\n",
    "import numpy as np\n",
    "import pandas as pd\n",
    "import cv2\n",
    "from sklearn.preprocessing import LabelEncoder\n",
    "from tensorflow.keras.utils import to_categorical\n",
    "from sklearn.model_selection import train_test_split\n",
    "import matplotlib.pyplot as plt\n",
    "\n",
    "import tensorflow as tf\n",
    "from tensorflow.keras.models import Sequential\n",
    "from tensorflow.keras.layers import Conv2D, MaxPooling2D, Flatten, Dense, Dropout, Input\n",
    "from tensorflow.keras.preprocessing.image import ImageDataGenerator"
   ]
  },
  {
   "cell_type": "code",
   "execution_count": 8,
   "id": "fc914b08-26f8-4b08-9fe6-730c9274921c",
   "metadata": {},
   "outputs": [],
   "source": [
    "data_path = \"D:/Users/extracted_images\"\n",
    "image_size = 45"
   ]
  },
  {
   "cell_type": "code",
   "execution_count": 9,
   "id": "c2b37a9c-f00d-490d-a235-54a9b20078bb",
   "metadata": {},
   "outputs": [],
   "source": [
    "#Loading Data\n",
    "def load_data(data_path, image_size):\n",
    "    data = []\n",
    "    labels = []\n",
    "    \n",
    "    for folder in os.listdir(data_path):\n",
    "        label = folder\n",
    "        folder_path = os.path.join(data_path, folder)\n",
    "        for file in os.listdir(folder_path):\n",
    "            img_path = os.path.join(folder_path, file)\n",
    "            img = cv2.imread(img_path, cv2.IMREAD_GRAYSCALE)\n",
    "            if img is not None:\n",
    "                img = cv2.resize(img, (image_size, image_size))\n",
    "                data.append(img)\n",
    "                labels.append(label)\n",
    "    \n",
    "    return np.array(data), np.array(labels)"
   ]
  },
  {
   "cell_type": "code",
   "execution_count": 10,
   "id": "1081829c-a58c-4b74-b24b-a79c311e4d1e",
   "metadata": {},
   "outputs": [
    {
     "name": "stdout",
     "output_type": "stream",
     "text": [
      "Data shape: (375974, 45, 45)\n",
      "Labels shape: (375974,)\n"
     ]
    }
   ],
   "source": [
    "data, labels = load_data(data_path, image_size)\n",
    "\n",
    "#Checking the size of the downloaded data\n",
    "print(f'Data shape: {data.shape}')\n",
    "print(f'Labels shape: {labels.shape}')"
   ]
  },
  {
   "cell_type": "code",
   "execution_count": 13,
   "id": "35c3f77e-b469-4283-b0ef-8a9f38eda9f9",
   "metadata": {},
   "outputs": [
    {
     "data": {
      "text/plain": [
       "array(['!', '!', '!', ..., '}', '}', '}'], dtype='<U13')"
      ]
     },
     "execution_count": 13,
     "metadata": {},
     "output_type": "execute_result"
    }
   ],
   "source": [
    "labels"
   ]
  },
  {
   "cell_type": "markdown",
   "id": "983730b1-ee19-4661-aed5-1f8f4eb99b3b",
   "metadata": {},
   "source": [
    "## Preprocessing"
   ]
  },
  {
   "cell_type": "code",
   "execution_count": 14,
   "id": "83ab0b44-cc72-405e-b634-61f99da71b97",
   "metadata": {},
   "outputs": [],
   "source": [
    "#Data Normalization\n",
    "data = data / 255.0\n",
    "data = data.reshape(data.shape[0], image_size, image_size, 1)"
   ]
  },
  {
   "cell_type": "code",
   "execution_count": 15,
   "id": "959f6944-92fc-4dbb-8a66-ed7d0e4aff89",
   "metadata": {},
   "outputs": [],
   "source": [
    "#Class Label Encoding\n",
    "label_encoder = LabelEncoder()\n",
    "labels = label_encoder.fit_transform(labels)\n",
    "labels = to_categorical(labels)"
   ]
  },
  {
   "cell_type": "code",
   "execution_count": 17,
   "id": "4c76b589-3bfa-4b75-b2ab-3d8670d0e49c",
   "metadata": {},
   "outputs": [],
   "source": [
    "X_train, X_test, y_train, y_test = train_test_split(data, labels, test_size=0.2, random_state=42)"
   ]
  },
  {
   "cell_type": "code",
   "execution_count": 18,
   "id": "67bf477a-3298-42f8-990e-7e64362ff073",
   "metadata": {},
   "outputs": [
    {
     "name": "stdout",
     "output_type": "stream",
     "text": [
      "Training data shape: (300779, 45, 45, 1)\n",
      "Test data shape: (75195, 45, 45, 1)\n"
     ]
    }
   ],
   "source": [
    "#Checking the sizes of training and test sets\n",
    "print(f'Training data shape: {X_train.shape}')\n",
    "print(f'Test data shape: {X_test.shape}')"
   ]
  },
  {
   "cell_type": "markdown",
   "id": "e5170649-76d8-4645-9761-c0c18f571e09",
   "metadata": {},
   "source": [
    "## Model CNN"
   ]
  },
  {
   "cell_type": "code",
   "execution_count": 24,
   "id": "dd2e64e9-d6ff-4cbd-827a-44a8de5d28d7",
   "metadata": {},
   "outputs": [],
   "source": [
    "# Create model\n",
    "model = Sequential([\n",
    "    Input(shape=(image_size, image_size, 1)),\n",
    "    Conv2D(32, (3, 3), activation='relu'),\n",
    "    MaxPooling2D((2, 2)),\n",
    "    Conv2D(64, (3, 3), activation='relu'),\n",
    "    MaxPooling2D((2, 2)),\n",
    "    Conv2D(128, (3, 3), activation='relu'),\n",
    "    MaxPooling2D((2, 2)),\n",
    "    Flatten(),\n",
    "    Dense(128, activation='relu'),\n",
    "    Dropout(0.5),\n",
    "    Dense(len(label_encoder.classes_), activation='softmax')\n",
    "])\n",
    "\n",
    "#Compiling model\n",
    "model.compile(optimizer='adam', loss='categorical_crossentropy', metrics=['accuracy'])"
   ]
  },
  {
   "cell_type": "code",
   "execution_count": 25,
   "id": "5baf49ea-90c0-49a6-b588-c31375628b9f",
   "metadata": {},
   "outputs": [
    {
     "data": {
      "text/html": [
       "<pre style=\"white-space:pre;overflow-x:auto;line-height:normal;font-family:Menlo,'DejaVu Sans Mono',consolas,'Courier New',monospace\"><span style=\"font-weight: bold\">Model: \"sequential_1\"</span>\n",
       "</pre>\n"
      ],
      "text/plain": [
       "\u001b[1mModel: \"sequential_1\"\u001b[0m\n"
      ]
     },
     "metadata": {},
     "output_type": "display_data"
    },
    {
     "data": {
      "text/html": [
       "<pre style=\"white-space:pre;overflow-x:auto;line-height:normal;font-family:Menlo,'DejaVu Sans Mono',consolas,'Courier New',monospace\">┏━━━━━━━━━━━━━━━━━━━━━━━━━━━━━━━━━━━━━━┳━━━━━━━━━━━━━━━━━━━━━━━━━━━━━┳━━━━━━━━━━━━━━━━━┓\n",
       "┃<span style=\"font-weight: bold\"> Layer (type)                         </span>┃<span style=\"font-weight: bold\"> Output Shape                </span>┃<span style=\"font-weight: bold\">         Param # </span>┃\n",
       "┡━━━━━━━━━━━━━━━━━━━━━━━━━━━━━━━━━━━━━━╇━━━━━━━━━━━━━━━━━━━━━━━━━━━━━╇━━━━━━━━━━━━━━━━━┩\n",
       "│ conv2d_3 (<span style=\"color: #0087ff; text-decoration-color: #0087ff\">Conv2D</span>)                    │ (<span style=\"color: #00d7ff; text-decoration-color: #00d7ff\">None</span>, <span style=\"color: #00af00; text-decoration-color: #00af00\">43</span>, <span style=\"color: #00af00; text-decoration-color: #00af00\">43</span>, <span style=\"color: #00af00; text-decoration-color: #00af00\">32</span>)          │             <span style=\"color: #00af00; text-decoration-color: #00af00\">320</span> │\n",
       "├──────────────────────────────────────┼─────────────────────────────┼─────────────────┤\n",
       "│ max_pooling2d_3 (<span style=\"color: #0087ff; text-decoration-color: #0087ff\">MaxPooling2D</span>)       │ (<span style=\"color: #00d7ff; text-decoration-color: #00d7ff\">None</span>, <span style=\"color: #00af00; text-decoration-color: #00af00\">21</span>, <span style=\"color: #00af00; text-decoration-color: #00af00\">21</span>, <span style=\"color: #00af00; text-decoration-color: #00af00\">32</span>)          │               <span style=\"color: #00af00; text-decoration-color: #00af00\">0</span> │\n",
       "├──────────────────────────────────────┼─────────────────────────────┼─────────────────┤\n",
       "│ conv2d_4 (<span style=\"color: #0087ff; text-decoration-color: #0087ff\">Conv2D</span>)                    │ (<span style=\"color: #00d7ff; text-decoration-color: #00d7ff\">None</span>, <span style=\"color: #00af00; text-decoration-color: #00af00\">19</span>, <span style=\"color: #00af00; text-decoration-color: #00af00\">19</span>, <span style=\"color: #00af00; text-decoration-color: #00af00\">64</span>)          │          <span style=\"color: #00af00; text-decoration-color: #00af00\">18,496</span> │\n",
       "├──────────────────────────────────────┼─────────────────────────────┼─────────────────┤\n",
       "│ max_pooling2d_4 (<span style=\"color: #0087ff; text-decoration-color: #0087ff\">MaxPooling2D</span>)       │ (<span style=\"color: #00d7ff; text-decoration-color: #00d7ff\">None</span>, <span style=\"color: #00af00; text-decoration-color: #00af00\">9</span>, <span style=\"color: #00af00; text-decoration-color: #00af00\">9</span>, <span style=\"color: #00af00; text-decoration-color: #00af00\">64</span>)            │               <span style=\"color: #00af00; text-decoration-color: #00af00\">0</span> │\n",
       "├──────────────────────────────────────┼─────────────────────────────┼─────────────────┤\n",
       "│ conv2d_5 (<span style=\"color: #0087ff; text-decoration-color: #0087ff\">Conv2D</span>)                    │ (<span style=\"color: #00d7ff; text-decoration-color: #00d7ff\">None</span>, <span style=\"color: #00af00; text-decoration-color: #00af00\">7</span>, <span style=\"color: #00af00; text-decoration-color: #00af00\">7</span>, <span style=\"color: #00af00; text-decoration-color: #00af00\">128</span>)           │          <span style=\"color: #00af00; text-decoration-color: #00af00\">73,856</span> │\n",
       "├──────────────────────────────────────┼─────────────────────────────┼─────────────────┤\n",
       "│ max_pooling2d_5 (<span style=\"color: #0087ff; text-decoration-color: #0087ff\">MaxPooling2D</span>)       │ (<span style=\"color: #00d7ff; text-decoration-color: #00d7ff\">None</span>, <span style=\"color: #00af00; text-decoration-color: #00af00\">3</span>, <span style=\"color: #00af00; text-decoration-color: #00af00\">3</span>, <span style=\"color: #00af00; text-decoration-color: #00af00\">128</span>)           │               <span style=\"color: #00af00; text-decoration-color: #00af00\">0</span> │\n",
       "├──────────────────────────────────────┼─────────────────────────────┼─────────────────┤\n",
       "│ flatten_1 (<span style=\"color: #0087ff; text-decoration-color: #0087ff\">Flatten</span>)                  │ (<span style=\"color: #00d7ff; text-decoration-color: #00d7ff\">None</span>, <span style=\"color: #00af00; text-decoration-color: #00af00\">1152</span>)                │               <span style=\"color: #00af00; text-decoration-color: #00af00\">0</span> │\n",
       "├──────────────────────────────────────┼─────────────────────────────┼─────────────────┤\n",
       "│ dense_2 (<span style=\"color: #0087ff; text-decoration-color: #0087ff\">Dense</span>)                      │ (<span style=\"color: #00d7ff; text-decoration-color: #00d7ff\">None</span>, <span style=\"color: #00af00; text-decoration-color: #00af00\">128</span>)                 │         <span style=\"color: #00af00; text-decoration-color: #00af00\">147,584</span> │\n",
       "├──────────────────────────────────────┼─────────────────────────────┼─────────────────┤\n",
       "│ dropout_1 (<span style=\"color: #0087ff; text-decoration-color: #0087ff\">Dropout</span>)                  │ (<span style=\"color: #00d7ff; text-decoration-color: #00d7ff\">None</span>, <span style=\"color: #00af00; text-decoration-color: #00af00\">128</span>)                 │               <span style=\"color: #00af00; text-decoration-color: #00af00\">0</span> │\n",
       "├──────────────────────────────────────┼─────────────────────────────┼─────────────────┤\n",
       "│ dense_3 (<span style=\"color: #0087ff; text-decoration-color: #0087ff\">Dense</span>)                      │ (<span style=\"color: #00d7ff; text-decoration-color: #00d7ff\">None</span>, <span style=\"color: #00af00; text-decoration-color: #00af00\">82</span>)                  │          <span style=\"color: #00af00; text-decoration-color: #00af00\">10,578</span> │\n",
       "└──────────────────────────────────────┴─────────────────────────────┴─────────────────┘\n",
       "</pre>\n"
      ],
      "text/plain": [
       "┏━━━━━━━━━━━━━━━━━━━━━━━━━━━━━━━━━━━━━━┳━━━━━━━━━━━━━━━━━━━━━━━━━━━━━┳━━━━━━━━━━━━━━━━━┓\n",
       "┃\u001b[1m \u001b[0m\u001b[1mLayer (type)                        \u001b[0m\u001b[1m \u001b[0m┃\u001b[1m \u001b[0m\u001b[1mOutput Shape               \u001b[0m\u001b[1m \u001b[0m┃\u001b[1m \u001b[0m\u001b[1m        Param #\u001b[0m\u001b[1m \u001b[0m┃\n",
       "┡━━━━━━━━━━━━━━━━━━━━━━━━━━━━━━━━━━━━━━╇━━━━━━━━━━━━━━━━━━━━━━━━━━━━━╇━━━━━━━━━━━━━━━━━┩\n",
       "│ conv2d_3 (\u001b[38;5;33mConv2D\u001b[0m)                    │ (\u001b[38;5;45mNone\u001b[0m, \u001b[38;5;34m43\u001b[0m, \u001b[38;5;34m43\u001b[0m, \u001b[38;5;34m32\u001b[0m)          │             \u001b[38;5;34m320\u001b[0m │\n",
       "├──────────────────────────────────────┼─────────────────────────────┼─────────────────┤\n",
       "│ max_pooling2d_3 (\u001b[38;5;33mMaxPooling2D\u001b[0m)       │ (\u001b[38;5;45mNone\u001b[0m, \u001b[38;5;34m21\u001b[0m, \u001b[38;5;34m21\u001b[0m, \u001b[38;5;34m32\u001b[0m)          │               \u001b[38;5;34m0\u001b[0m │\n",
       "├──────────────────────────────────────┼─────────────────────────────┼─────────────────┤\n",
       "│ conv2d_4 (\u001b[38;5;33mConv2D\u001b[0m)                    │ (\u001b[38;5;45mNone\u001b[0m, \u001b[38;5;34m19\u001b[0m, \u001b[38;5;34m19\u001b[0m, \u001b[38;5;34m64\u001b[0m)          │          \u001b[38;5;34m18,496\u001b[0m │\n",
       "├──────────────────────────────────────┼─────────────────────────────┼─────────────────┤\n",
       "│ max_pooling2d_4 (\u001b[38;5;33mMaxPooling2D\u001b[0m)       │ (\u001b[38;5;45mNone\u001b[0m, \u001b[38;5;34m9\u001b[0m, \u001b[38;5;34m9\u001b[0m, \u001b[38;5;34m64\u001b[0m)            │               \u001b[38;5;34m0\u001b[0m │\n",
       "├──────────────────────────────────────┼─────────────────────────────┼─────────────────┤\n",
       "│ conv2d_5 (\u001b[38;5;33mConv2D\u001b[0m)                    │ (\u001b[38;5;45mNone\u001b[0m, \u001b[38;5;34m7\u001b[0m, \u001b[38;5;34m7\u001b[0m, \u001b[38;5;34m128\u001b[0m)           │          \u001b[38;5;34m73,856\u001b[0m │\n",
       "├──────────────────────────────────────┼─────────────────────────────┼─────────────────┤\n",
       "│ max_pooling2d_5 (\u001b[38;5;33mMaxPooling2D\u001b[0m)       │ (\u001b[38;5;45mNone\u001b[0m, \u001b[38;5;34m3\u001b[0m, \u001b[38;5;34m3\u001b[0m, \u001b[38;5;34m128\u001b[0m)           │               \u001b[38;5;34m0\u001b[0m │\n",
       "├──────────────────────────────────────┼─────────────────────────────┼─────────────────┤\n",
       "│ flatten_1 (\u001b[38;5;33mFlatten\u001b[0m)                  │ (\u001b[38;5;45mNone\u001b[0m, \u001b[38;5;34m1152\u001b[0m)                │               \u001b[38;5;34m0\u001b[0m │\n",
       "├──────────────────────────────────────┼─────────────────────────────┼─────────────────┤\n",
       "│ dense_2 (\u001b[38;5;33mDense\u001b[0m)                      │ (\u001b[38;5;45mNone\u001b[0m, \u001b[38;5;34m128\u001b[0m)                 │         \u001b[38;5;34m147,584\u001b[0m │\n",
       "├──────────────────────────────────────┼─────────────────────────────┼─────────────────┤\n",
       "│ dropout_1 (\u001b[38;5;33mDropout\u001b[0m)                  │ (\u001b[38;5;45mNone\u001b[0m, \u001b[38;5;34m128\u001b[0m)                 │               \u001b[38;5;34m0\u001b[0m │\n",
       "├──────────────────────────────────────┼─────────────────────────────┼─────────────────┤\n",
       "│ dense_3 (\u001b[38;5;33mDense\u001b[0m)                      │ (\u001b[38;5;45mNone\u001b[0m, \u001b[38;5;34m82\u001b[0m)                  │          \u001b[38;5;34m10,578\u001b[0m │\n",
       "└──────────────────────────────────────┴─────────────────────────────┴─────────────────┘\n"
      ]
     },
     "metadata": {},
     "output_type": "display_data"
    },
    {
     "data": {
      "text/html": [
       "<pre style=\"white-space:pre;overflow-x:auto;line-height:normal;font-family:Menlo,'DejaVu Sans Mono',consolas,'Courier New',monospace\"><span style=\"font-weight: bold\"> Total params: </span><span style=\"color: #00af00; text-decoration-color: #00af00\">250,834</span> (979.82 KB)\n",
       "</pre>\n"
      ],
      "text/plain": [
       "\u001b[1m Total params: \u001b[0m\u001b[38;5;34m250,834\u001b[0m (979.82 KB)\n"
      ]
     },
     "metadata": {},
     "output_type": "display_data"
    },
    {
     "data": {
      "text/html": [
       "<pre style=\"white-space:pre;overflow-x:auto;line-height:normal;font-family:Menlo,'DejaVu Sans Mono',consolas,'Courier New',monospace\"><span style=\"font-weight: bold\"> Trainable params: </span><span style=\"color: #00af00; text-decoration-color: #00af00\">250,834</span> (979.82 KB)\n",
       "</pre>\n"
      ],
      "text/plain": [
       "\u001b[1m Trainable params: \u001b[0m\u001b[38;5;34m250,834\u001b[0m (979.82 KB)\n"
      ]
     },
     "metadata": {},
     "output_type": "display_data"
    },
    {
     "data": {
      "text/html": [
       "<pre style=\"white-space:pre;overflow-x:auto;line-height:normal;font-family:Menlo,'DejaVu Sans Mono',consolas,'Courier New',monospace\"><span style=\"font-weight: bold\"> Non-trainable params: </span><span style=\"color: #00af00; text-decoration-color: #00af00\">0</span> (0.00 B)\n",
       "</pre>\n"
      ],
      "text/plain": [
       "\u001b[1m Non-trainable params: \u001b[0m\u001b[38;5;34m0\u001b[0m (0.00 B)\n"
      ]
     },
     "metadata": {},
     "output_type": "display_data"
    }
   ],
   "source": [
    "#Model structure inference\n",
    "model.summary()"
   ]
  },
  {
   "cell_type": "code",
   "execution_count": 26,
   "id": "51b67288-3b8b-4fd9-9fa5-cac3fb716fd2",
   "metadata": {},
   "outputs": [],
   "source": [
    "datagen = ImageDataGenerator(\n",
    "    rotation_range=10,\n",
    "    zoom_range=0.1,\n",
    "    width_shift_range=0.1,\n",
    "    height_shift_range=0.1\n",
    ")\n",
    "\n",
    "datagen.fit(X_train)"
   ]
  },
  {
   "cell_type": "code",
   "execution_count": 28,
   "id": "8ae69341-08d1-44cb-9539-0f3d97af919d",
   "metadata": {},
   "outputs": [
    {
     "name": "stdout",
     "output_type": "stream",
     "text": [
      "Epoch 1/20\n",
      "\u001b[1m9400/9400\u001b[0m \u001b[32m━━━━━━━━━━━━━━━━━━━━\u001b[0m\u001b[37m\u001b[0m \u001b[1m146s\u001b[0m 16ms/step - accuracy: 0.8356 - loss: 0.5716 - val_accuracy: 0.9060 - val_loss: 0.3115\n",
      "Epoch 2/20\n",
      "\u001b[1m9400/9400\u001b[0m \u001b[32m━━━━━━━━━━━━━━━━━━━━\u001b[0m\u001b[37m\u001b[0m \u001b[1m140s\u001b[0m 15ms/step - accuracy: 0.8357 - loss: 0.5719 - val_accuracy: 0.8985 - val_loss: 0.3283\n",
      "Epoch 3/20\n",
      "\u001b[1m9400/9400\u001b[0m \u001b[32m━━━━━━━━━━━━━━━━━━━━\u001b[0m\u001b[37m\u001b[0m \u001b[1m154s\u001b[0m 16ms/step - accuracy: 0.8376 - loss: 0.5684 - val_accuracy: 0.9050 - val_loss: 0.3079\n",
      "Epoch 4/20\n",
      "\u001b[1m9400/9400\u001b[0m \u001b[32m━━━━━━━━━━━━━━━━━━━━\u001b[0m\u001b[37m\u001b[0m \u001b[1m159s\u001b[0m 17ms/step - accuracy: 0.8374 - loss: 0.5675 - val_accuracy: 0.9045 - val_loss: 0.3137\n",
      "Epoch 5/20\n",
      "\u001b[1m9400/9400\u001b[0m \u001b[32m━━━━━━━━━━━━━━━━━━━━\u001b[0m\u001b[37m\u001b[0m \u001b[1m178s\u001b[0m 19ms/step - accuracy: 0.8371 - loss: 0.5662 - val_accuracy: 0.8989 - val_loss: 0.3262\n",
      "Epoch 6/20\n",
      "\u001b[1m9400/9400\u001b[0m \u001b[32m━━━━━━━━━━━━━━━━━━━━\u001b[0m\u001b[37m\u001b[0m \u001b[1m177s\u001b[0m 19ms/step - accuracy: 0.8372 - loss: 0.5719 - val_accuracy: 0.9004 - val_loss: 0.3260\n",
      "Epoch 7/20\n",
      "\u001b[1m9400/9400\u001b[0m \u001b[32m━━━━━━━━━━━━━━━━━━━━\u001b[0m\u001b[37m\u001b[0m \u001b[1m181s\u001b[0m 19ms/step - accuracy: 0.8356 - loss: 0.5710 - val_accuracy: 0.8965 - val_loss: 0.3418\n",
      "Epoch 8/20\n",
      "\u001b[1m9400/9400\u001b[0m \u001b[32m━━━━━━━━━━━━━━━━━━━━\u001b[0m\u001b[37m\u001b[0m \u001b[1m167s\u001b[0m 18ms/step - accuracy: 0.8381 - loss: 0.5669 - val_accuracy: 0.9070 - val_loss: 0.3144\n",
      "Epoch 9/20\n",
      "\u001b[1m9400/9400\u001b[0m \u001b[32m━━━━━━━━━━━━━━━━━━━━\u001b[0m\u001b[37m\u001b[0m \u001b[1m165s\u001b[0m 18ms/step - accuracy: 0.8365 - loss: 0.5660 - val_accuracy: 0.9046 - val_loss: 0.3165\n",
      "Epoch 10/20\n",
      "\u001b[1m9400/9400\u001b[0m \u001b[32m━━━━━━━━━━━━━━━━━━━━\u001b[0m\u001b[37m\u001b[0m \u001b[1m163s\u001b[0m 17ms/step - accuracy: 0.8370 - loss: 0.5666 - val_accuracy: 0.9028 - val_loss: 0.3184\n",
      "Epoch 11/20\n",
      "\u001b[1m9400/9400\u001b[0m \u001b[32m━━━━━━━━━━━━━━━━━━━━\u001b[0m\u001b[37m\u001b[0m \u001b[1m169s\u001b[0m 18ms/step - accuracy: 0.8362 - loss: 0.5692 - val_accuracy: 0.9032 - val_loss: 0.3225\n",
      "Epoch 12/20\n",
      "\u001b[1m9400/9400\u001b[0m \u001b[32m━━━━━━━━━━━━━━━━━━━━\u001b[0m\u001b[37m\u001b[0m \u001b[1m173s\u001b[0m 18ms/step - accuracy: 0.8378 - loss: 0.5659 - val_accuracy: 0.9002 - val_loss: 0.3260\n",
      "Epoch 13/20\n",
      "\u001b[1m9400/9400\u001b[0m \u001b[32m━━━━━━━━━━━━━━━━━━━━\u001b[0m\u001b[37m\u001b[0m \u001b[1m163s\u001b[0m 17ms/step - accuracy: 0.8365 - loss: 0.5689 - val_accuracy: 0.9019 - val_loss: 0.3421\n",
      "Epoch 14/20\n",
      "\u001b[1m9400/9400\u001b[0m \u001b[32m━━━━━━━━━━━━━━━━━━━━\u001b[0m\u001b[37m\u001b[0m \u001b[1m161s\u001b[0m 17ms/step - accuracy: 0.8379 - loss: 0.5646 - val_accuracy: 0.8981 - val_loss: 0.3412\n",
      "Epoch 15/20\n",
      "\u001b[1m9400/9400\u001b[0m \u001b[32m━━━━━━━━━━━━━━━━━━━━\u001b[0m\u001b[37m\u001b[0m \u001b[1m165s\u001b[0m 18ms/step - accuracy: 0.8387 - loss: 0.5664 - val_accuracy: 0.9002 - val_loss: 0.3386\n",
      "Epoch 16/20\n",
      "\u001b[1m9400/9400\u001b[0m \u001b[32m━━━━━━━━━━━━━━━━━━━━\u001b[0m\u001b[37m\u001b[0m \u001b[1m162s\u001b[0m 17ms/step - accuracy: 0.8380 - loss: 0.5648 - val_accuracy: 0.8961 - val_loss: 0.3324\n",
      "Epoch 17/20\n",
      "\u001b[1m9400/9400\u001b[0m \u001b[32m━━━━━━━━━━━━━━━━━━━━\u001b[0m\u001b[37m\u001b[0m \u001b[1m168s\u001b[0m 18ms/step - accuracy: 0.8388 - loss: 0.5654 - val_accuracy: 0.8880 - val_loss: 0.3600\n",
      "Epoch 18/20\n",
      "\u001b[1m9400/9400\u001b[0m \u001b[32m━━━━━━━━━━━━━━━━━━━━\u001b[0m\u001b[37m\u001b[0m \u001b[1m163s\u001b[0m 17ms/step - accuracy: 0.8380 - loss: 0.5652 - val_accuracy: 0.8979 - val_loss: 0.3352\n",
      "Epoch 19/20\n",
      "\u001b[1m9400/9400\u001b[0m \u001b[32m━━━━━━━━━━━━━━━━━━━━\u001b[0m\u001b[37m\u001b[0m \u001b[1m163s\u001b[0m 17ms/step - accuracy: 0.8386 - loss: 0.5686 - val_accuracy: 0.9029 - val_loss: 0.3243\n",
      "Epoch 20/20\n",
      "\u001b[1m9400/9400\u001b[0m \u001b[32m━━━━━━━━━━━━━━━━━━━━\u001b[0m\u001b[37m\u001b[0m \u001b[1m160s\u001b[0m 17ms/step - accuracy: 0.8386 - loss: 0.5705 - val_accuracy: 0.9051 - val_loss: 0.3181\n"
     ]
    }
   ],
   "source": [
    "#Model training\n",
    "history = model.fit(datagen.flow(X_train, y_train, batch_size=32), \n",
    "                    epochs=20, \n",
    "                    validation_data=(X_test, y_test))\n",
    "\n",
    "#Saving model\n",
    "model.save('math_symbol_recognizer.keras')"
   ]
  },
  {
   "cell_type": "code",
   "execution_count": 29,
   "id": "77854157-d1f4-402b-b4d2-d6c3135bde6d",
   "metadata": {},
   "outputs": [
    {
     "name": "stdout",
     "output_type": "stream",
     "text": [
      "\u001b[1m2350/2350\u001b[0m \u001b[32m━━━━━━━━━━━━━━━━━━━━\u001b[0m\u001b[37m\u001b[0m \u001b[1m13s\u001b[0m 5ms/step - accuracy: 0.9021 - loss: 0.3228\n",
      "Test accuracy: 90.51%\n"
     ]
    }
   ],
   "source": [
    "#Model evaluation\n",
    "loss, accuracy = model.evaluate(X_test, y_test)\n",
    "print(f'Test accuracy: {accuracy * 100:.2f}%')"
   ]
  },
  {
   "cell_type": "code",
   "execution_count": 32,
   "id": "df1e6880-b95d-4857-9531-ed1f10e484b8",
   "metadata": {},
   "outputs": [
    {
     "data": {
      "image/png": "[encoded data removed]",
      "text/plain": [
       "<Figure size 1200x400 with 2 Axes>"
      ]
     },
     "metadata": {},
     "output_type": "display_data"
    }
   ],
   "source": [
    "#Visualization of learning history\n",
    "plt.figure(figsize=(12, 4))\n",
    "plt.subplot(1, 2, 1)\n",
    "plt.plot(history.history['loss'], label='Training Loss')\n",
    "plt.plot(history.history['val_loss'], label='Validation Loss')\n",
    "plt.legend()\n",
    "plt.title('Loss')\n",
    "\n",
    "plt.subplot(1, 2, 2)\n",
    "plt.plot(history.history['accuracy'], label='Training Accuracy')\n",
    "plt.plot(history.history['val_accuracy'], label='Validation Accuracy')\n",
    "plt.legend()\n",
    "plt.title('Accuracy')\n",
    "plt.show()"
   ]
  },
  {
   "cell_type": "code",
   "execution_count": null,
   "id": "26b0a571-87d5-4820-8d60-baa6cf039612",
   "metadata": {},
   "outputs": [],
   "source": []
  },
  {
   "cell_type": "code",
   "execution_count": null,
   "id": "9a9c9c5e-1b5d-4ebd-a741-cab6e5b580da",
   "metadata": {},
   "outputs": [],
   "source": []
  },
  {
   "cell_type": "code",
   "execution_count": null,
   "id": "00cfddcd-2de0-48a0-b6be-6d4257478483",
   "metadata": {},
   "outputs": [],
   "source": []
  }
 ],
 "metadata": {
  "kernelspec": {
   "display_name": "Python 3 (ipykernel)",
   "language": "python",
   "name": "python3"
  },
  "language_info": {
   "codemirror_mode": {
    "name": "ipython",
    "version": 3
   },
   "file_extension": ".py",
   "mimetype": "text/x-python",
   "name": "python",
   "nbconvert_exporter": "python",
   "pygments_lexer": "ipython3",
   "version": "3.11.5"
  }
 },
 "nbformat": 4,
 "nbformat_minor": 5
}
