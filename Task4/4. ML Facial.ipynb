{
 "cells": [
  {
   "cell_type": "code",
   "execution_count": 3,
   "id": "2aa44499-58c3-4d7e-b896-9f9b88a590cd",
   "metadata": {},
   "outputs": [
    {
     "name": "stdout",
     "output_type": "stream",
     "text": [
      "Requirement already satisfied: bottleneck in d:\\users\\irina\\anaconda3\\lib\\site-packages (1.3.8)\n",
      "Requirement already satisfied: numpy in d:\\users\\irina\\anaconda3\\lib\\site-packages (from bottleneck) (1.24.3)\n"
     ]
    }
   ],
   "source": [
    "!pip install --upgrade bottleneck --user"
   ]
  },
  {
   "cell_type": "code",
   "execution_count": 36,
   "id": "2893b9a4-4380-4faa-aa27-b00dbedad97d",
   "metadata": {},
   "outputs": [
    {
     "name": "stdout",
     "output_type": "stream",
     "text": [
      "Requirement already satisfied: requests in d:\\users\\irina\\anaconda3\\lib\\site-packages (2.31.0)\n",
      "Requirement already satisfied: beautifulsoup4 in d:\\users\\irina\\anaconda3\\lib\\site-packages (4.12.2)\n",
      "Requirement already satisfied: charset-normalizer<4,>=2 in d:\\users\\irina\\anaconda3\\lib\\site-packages (from requests) (2.0.4)\n",
      "Requirement already satisfied: idna<4,>=2.5 in d:\\users\\irina\\anaconda3\\lib\\site-packages (from requests) (3.4)\n",
      "Requirement already satisfied: urllib3<3,>=1.21.1 in d:\\users\\irina\\anaconda3\\lib\\site-packages (from requests) (1.26.18)\n",
      "Requirement already satisfied: certifi>=2017.4.17 in d:\\users\\irina\\anaconda3\\lib\\site-packages (from requests) (2023.11.17)\n",
      "Requirement already satisfied: soupsieve>1.2 in d:\\users\\irina\\anaconda3\\lib\\site-packages (from beautifulsoup4) (2.5)\n"
     ]
    }
   ],
   "source": [
    "!pip install requests beautifulsoup4"
   ]
  },
  {
   "cell_type": "code",
   "execution_count": 81,
   "id": "f1082fc0-c6e3-4d0b-8b0c-5328b794f04d",
   "metadata": {},
   "outputs": [],
   "source": [
    "import os\n",
    "import cv2\n",
    "import numpy as np\n",
    "from sklearn.model_selection import train_test_split\n",
    "from tensorflow.keras.utils import to_categorical\n",
    "from sklearn.preprocessing import LabelEncoder\n",
    "from tensorflow.keras.models import Sequential\n",
    "from tensorflow.keras.layers import Conv2D, MaxPooling2D, Flatten, Dense, Dropout, Input\n",
    "from tensorflow.keras.preprocessing.image import ImageDataGenerator\n",
    "import matplotlib.pyplot as plt\n",
    "import random\n",
    "import requests\n",
    "from bs4 import BeautifulSoup"
   ]
  },
  {
   "cell_type": "code",
   "execution_count": 2,
   "id": "848c6277-a2cf-472c-937b-758d3726456c",
   "metadata": {},
   "outputs": [],
   "source": [
    "#Data path\n",
    "data_path = \"D:/Users/archive/train\"\n",
    "image_size = 48"
   ]
  },
  {
   "cell_type": "code",
   "execution_count": 3,
   "id": "3464ced2-ec7b-421e-8ccc-55a96415c77c",
   "metadata": {},
   "outputs": [],
   "source": [
    "#Function for loading data\n",
    "def load_data(data_path, image_size):\n",
    "    data = []\n",
    "    labels = []\n",
    "    \n",
    "    for folder in os.listdir(data_path):\n",
    "        label = folder\n",
    "        folder_path = os.path.join(data_path, folder)\n",
    "        if os.path.isdir(folder_path): \n",
    "            for file in os.listdir(folder_path):\n",
    "                img_path = os.path.join(folder_path, file)\n",
    "                img = cv2.imread(img_path, cv2.IMREAD_GRAYSCALE)\n",
    "                if img is not None:\n",
    "                    img = cv2.resize(img, (image_size, image_size))\n",
    "                    data.append(img)\n",
    "                    labels.append(label)\n",
    "    \n",
    "    return np.array(data), np.array(labels)"
   ]
  },
  {
   "cell_type": "markdown",
   "id": "7a238c02-6299-4fcf-9026-52cb27bda084",
   "metadata": {},
   "source": [
    "## Train"
   ]
  },
  {
   "cell_type": "code",
   "execution_count": 4,
   "id": "e5557c6a-5d27-43a8-8dd8-039ec81e3388",
   "metadata": {},
   "outputs": [],
   "source": [
    "#Loading Data\n",
    "data_train, labels_train = load_data(data_path, image_size)"
   ]
  },
  {
   "cell_type": "code",
   "execution_count": 6,
   "id": "374d6a06-f4eb-49e1-9aa2-3afb016c832b",
   "metadata": {},
   "outputs": [],
   "source": [
    "#Checking that the data is not empty\n",
    "if len(data_train) == 0:\n",
    "    raise ValueError(\"No images found in the specified path.\")"
   ]
  },
  {
   "cell_type": "code",
   "execution_count": 8,
   "id": "1ad0f8c1-fbfb-4f2e-8ebd-1b5c1e32d00d",
   "metadata": {},
   "outputs": [
    {
     "data": {
      "text/plain": [
       "(28709, 48, 48)"
      ]
     },
     "execution_count": 8,
     "metadata": {},
     "output_type": "execute_result"
    }
   ],
   "source": [
    "data_train.shape"
   ]
  },
  {
   "cell_type": "code",
   "execution_count": 9,
   "id": "aadcafcd-f990-433c-840c-e87d76d9d613",
   "metadata": {},
   "outputs": [
    {
     "data": {
      "text/plain": [
       "(28709,)"
      ]
     },
     "execution_count": 9,
     "metadata": {},
     "output_type": "execute_result"
    }
   ],
   "source": [
    "labels_train.shape"
   ]
  },
  {
   "cell_type": "code",
   "execution_count": 10,
   "id": "f1939a5a-fccd-4f9f-ad22-636ceaa421cf",
   "metadata": {},
   "outputs": [],
   "source": [
    "#Data Normalization\n",
    "data_train = data_train / 255.0\n",
    "data_train = data_train.reshape(data_train.shape[0], image_size, image_size, 1)"
   ]
  },
  {
   "cell_type": "code",
   "execution_count": 11,
   "id": "d665029f-b113-4aff-a866-0286afb463a0",
   "metadata": {},
   "outputs": [],
   "source": [
    "#Class Label Encoding\n",
    "label_encoder = LabelEncoder()\n",
    "labels_train_encoder = label_encoder.fit_transform(labels_train)\n",
    "labels_train_encoder = to_categorical(labels_train_encoder)"
   ]
  },
  {
   "cell_type": "code",
   "execution_count": 12,
   "id": "bfa1bc20-f365-4db1-ac8c-1296eb7365da",
   "metadata": {},
   "outputs": [
    {
     "data": {
      "text/plain": [
       "'angry'"
      ]
     },
     "execution_count": 12,
     "metadata": {},
     "output_type": "execute_result"
    }
   ],
   "source": [
    "labels_train[2001]"
   ]
  },
  {
   "cell_type": "code",
   "execution_count": 13,
   "id": "e57db952-fb33-4125-88f3-37bc7c39de42",
   "metadata": {},
   "outputs": [
    {
     "data": {
      "text/plain": [
       "array([1., 0., 0., 0., 0., 0., 0.])"
      ]
     },
     "execution_count": 13,
     "metadata": {},
     "output_type": "execute_result"
    }
   ],
   "source": [
    "labels_train_encoder[2001]"
   ]
  },
  {
   "cell_type": "code",
   "execution_count": 17,
   "id": "cedee347-a84e-401c-a7f0-360d91b5608c",
   "metadata": {},
   "outputs": [
    {
     "data": {
      "text/plain": [
       "'happy'"
      ]
     },
     "execution_count": 17,
     "metadata": {},
     "output_type": "execute_result"
    }
   ],
   "source": [
    "labels_train[10000]"
   ]
  },
  {
   "cell_type": "code",
   "execution_count": 18,
   "id": "e0923533-d516-47e9-ad7b-f7ca9f276614",
   "metadata": {},
   "outputs": [
    {
     "data": {
      "text/plain": [
       "array([0., 0., 0., 1., 0., 0., 0.])"
      ]
     },
     "execution_count": 18,
     "metadata": {},
     "output_type": "execute_result"
    }
   ],
   "source": [
    "labels_train_encoder[10000]"
   ]
  },
  {
   "cell_type": "code",
   "execution_count": 106,
   "id": "eeb76c5a-2a4c-4d60-b484-cb4ab1be673f",
   "metadata": {},
   "outputs": [
    {
     "data": {
      "image/png": "[encoded data removed]",
      "text/plain": [
       "<Figure size 2000x500 with 1 Axes>"
      ]
     },
     "metadata": {},
     "output_type": "display_data"
    },
    {
     "data": {
      "image/png": "[encoded data removed]",
      "text/plain": [
       "<Figure size 640x480 with 1 Axes>"
      ]
     },
     "metadata": {},
     "output_type": "display_data"
    },
    {
     "data": {
      "image/png": "[encoded data removed]",
      "text/plain": [
       "<Figure size 640x480 with 1 Axes>"
      ]
     },
     "metadata": {},
     "output_type": "display_data"
    },
    {
     "data": {
      "image/png": "[encoded data removed]",
      "text/plain": [
       "<Figure size 640x480 with 1 Axes>"
      ]
     },
     "metadata": {},
     "output_type": "display_data"
    },
    {
     "data": {
      "image/png": "[encoded data removed]",
      "text/plain": [
       "<Figure size 640x480 with 1 Axes>"
      ]
     },
     "metadata": {},
     "output_type": "display_data"
    },
    {
     "data": {
      "image/png": "[encoded data removed]",
      "text/plain": [
       "<Figure size 640x480 with 1 Axes>"
      ]
     },
     "metadata": {},
     "output_type": "display_data"
    }
   ],
   "source": [
    "plt.figure(figsize=(20, 5))\n",
    "for i in range(3000, 6000, 500):\n",
    "    plt.imshow(data_train[i], cmap='gray')\n",
    "    plt.title(f'emotion - {labels_train[i]}')\n",
    "    plt.axis('off')\n",
    "    plt.show()"
   ]
  },
  {
   "cell_type": "markdown",
   "id": "b97ec500-1213-4238-8904-dee2e4934b22",
   "metadata": {},
   "source": [
    "## Test"
   ]
  },
  {
   "cell_type": "code",
   "execution_count": 20,
   "id": "918c36b8-dc9b-422c-9c9b-061635ca610f",
   "metadata": {},
   "outputs": [],
   "source": [
    "data_path_test = \"D:/Users/archive/test\"\n",
    "data_test, labels_test = load_data(data_path, image_size)"
   ]
  },
  {
   "cell_type": "code",
   "execution_count": 21,
   "id": "25c61bfe-8629-43a4-acdd-b7abf28e1e8f",
   "metadata": {},
   "outputs": [],
   "source": [
    "#Checking that the data is not empty\n",
    "if len(data_test) == 0:\n",
    "    raise ValueError(\"No images found in the specified path.\")"
   ]
  },
  {
   "cell_type": "code",
   "execution_count": 22,
   "id": "509dceb1-81ea-416e-bdc5-101c2ba86bc4",
   "metadata": {},
   "outputs": [
    {
     "data": {
      "text/plain": [
       "(28709, 48, 48)"
      ]
     },
     "execution_count": 22,
     "metadata": {},
     "output_type": "execute_result"
    }
   ],
   "source": [
    "data_test.shape"
   ]
  },
  {
   "cell_type": "code",
   "execution_count": 23,
   "id": "6c4753bc-feae-4b96-94f6-6fa07315a906",
   "metadata": {},
   "outputs": [
    {
     "data": {
      "text/plain": [
       "(28709,)"
      ]
     },
     "execution_count": 23,
     "metadata": {},
     "output_type": "execute_result"
    }
   ],
   "source": [
    "labels_test.shape"
   ]
  },
  {
   "cell_type": "code",
   "execution_count": 24,
   "id": "54dc782b-cd65-435c-859a-bc0d515e0fee",
   "metadata": {},
   "outputs": [],
   "source": [
    "#Data Normalization\n",
    "data_test = data_test / 255.0\n",
    "data_test = data_test.reshape(data_test.shape[0], image_size, image_size, 1)"
   ]
  },
  {
   "cell_type": "code",
   "execution_count": 25,
   "id": "b99e9536-dcde-4b70-9b80-67bbc855ce24",
   "metadata": {},
   "outputs": [],
   "source": [
    "#Class Label Encoding\n",
    "label_encoder = LabelEncoder()\n",
    "labels_test_encoder = label_encoder.fit_transform(labels_test)\n",
    "labels_test_encoder = to_categorical(labels_test_encoder)"
   ]
  },
  {
   "cell_type": "markdown",
   "id": "b22a401f-b6a4-4f1b-a740-d84c7a2b4af0",
   "metadata": {},
   "source": [
    "## Model emotion"
   ]
  },
  {
   "cell_type": "code",
   "execution_count": 26,
   "id": "fdee3f15-cdb3-4a43-9ff9-f8d737fe9c41",
   "metadata": {},
   "outputs": [],
   "source": [
    "#Creating Model\n",
    "model = Sequential([\n",
    "    Input(shape=(image_size, image_size, 1)),\n",
    "    Conv2D(32, (3, 3), activation='relu'),\n",
    "    MaxPooling2D((2, 2)),\n",
    "    Conv2D(64, (3, 3), activation='relu'),\n",
    "    MaxPooling2D((2, 2)),\n",
    "    Conv2D(128, (3, 3), activation='relu'),\n",
    "    MaxPooling2D((2, 2)),\n",
    "    Flatten(),\n",
    "    Dense(128, activation='relu'),\n",
    "    Dropout(0.5),\n",
    "    Dense(len(label_encoder.classes_), activation='softmax')\n",
    "])\n",
    "\n",
    "#Compiling model\n",
    "model.compile(optimizer='adam', loss='categorical_crossentropy', metrics=['accuracy'])\n"
   ]
  },
  {
   "cell_type": "code",
   "execution_count": 27,
   "id": "d99014fb-8757-408b-872c-d57cb996256e",
   "metadata": {},
   "outputs": [],
   "source": [
    "datagen = ImageDataGenerator(\n",
    "    rotation_range=10,\n",
    "    zoom_range=0.1,\n",
    "    width_shift_range=0.1,\n",
    "    height_shift_range=0.1\n",
    ")\n",
    "\n",
    "datagen.fit(data_train)"
   ]
  },
  {
   "cell_type": "code",
   "execution_count": 28,
   "id": "faff5d01-a70c-49ec-b0be-80565f4eb673",
   "metadata": {},
   "outputs": [
    {
     "name": "stdout",
     "output_type": "stream",
     "text": [
      "Epoch 1/20\n"
     ]
    },
    {
     "name": "stderr",
     "output_type": "stream",
     "text": [
      "D:\\Users\\irina\\anaconda3\\Lib\\site-packages\\keras\\src\\trainers\\data_adapters\\py_dataset_adapter.py:121: UserWarning: Your `PyDataset` class should call `super().__init__(**kwargs)` in its constructor. `**kwargs` can include `workers`, `use_multiprocessing`, `max_queue_size`. Do not pass these arguments to `fit()`, as they will be ignored.\n",
      "  self._warn_if_super_not_called()\n"
     ]
    },
    {
     "name": "stdout",
     "output_type": "stream",
     "text": [
      "\u001b[1m898/898\u001b[0m \u001b[32m━━━━━━━━━━━━━━━━━━━━\u001b[0m\u001b[37m\u001b[0m \u001b[1m55s\u001b[0m 58ms/step - accuracy: 0.2379 - loss: 1.8296 - val_accuracy: 0.3005 - val_loss: 1.7188\n",
      "Epoch 2/20\n",
      "\u001b[1m898/898\u001b[0m \u001b[32m━━━━━━━━━━━━━━━━━━━━\u001b[0m\u001b[37m\u001b[0m \u001b[1m47s\u001b[0m 52ms/step - accuracy: 0.2965 - loss: 1.7233 - val_accuracy: 0.3963 - val_loss: 1.5292\n",
      "Epoch 3/20\n",
      "\u001b[1m898/898\u001b[0m \u001b[32m━━━━━━━━━━━━━━━━━━━━\u001b[0m\u001b[37m\u001b[0m \u001b[1m49s\u001b[0m 54ms/step - accuracy: 0.3714 - loss: 1.5911 - val_accuracy: 0.4623 - val_loss: 1.3957\n",
      "Epoch 4/20\n",
      "\u001b[1m898/898\u001b[0m \u001b[32m━━━━━━━━━━━━━━━━━━━━\u001b[0m\u001b[37m\u001b[0m \u001b[1m47s\u001b[0m 52ms/step - accuracy: 0.4246 - loss: 1.4823 - val_accuracy: 0.5045 - val_loss: 1.3025\n",
      "Epoch 5/20\n",
      "\u001b[1m898/898\u001b[0m \u001b[32m━━━━━━━━━━━━━━━━━━━━\u001b[0m\u001b[37m\u001b[0m \u001b[1m46s\u001b[0m 51ms/step - accuracy: 0.4609 - loss: 1.4050 - val_accuracy: 0.5267 - val_loss: 1.2557\n",
      "Epoch 6/20\n",
      "\u001b[1m898/898\u001b[0m \u001b[32m━━━━━━━━━━━━━━━━━━━━\u001b[0m\u001b[37m\u001b[0m \u001b[1m47s\u001b[0m 52ms/step - accuracy: 0.4786 - loss: 1.3771 - val_accuracy: 0.5329 - val_loss: 1.2121\n",
      "Epoch 7/20\n",
      "\u001b[1m898/898\u001b[0m \u001b[32m━━━━━━━━━━━━━━━━━━━━\u001b[0m\u001b[37m\u001b[0m \u001b[1m47s\u001b[0m 52ms/step - accuracy: 0.4916 - loss: 1.3334 - val_accuracy: 0.5461 - val_loss: 1.1885\n",
      "Epoch 8/20\n",
      "\u001b[1m898/898\u001b[0m \u001b[32m━━━━━━━━━━━━━━━━━━━━\u001b[0m\u001b[37m\u001b[0m \u001b[1m49s\u001b[0m 54ms/step - accuracy: 0.5025 - loss: 1.3177 - val_accuracy: 0.5623 - val_loss: 1.1555\n",
      "Epoch 9/20\n",
      "\u001b[1m898/898\u001b[0m \u001b[32m━━━━━━━━━━━━━━━━━━━━\u001b[0m\u001b[37m\u001b[0m \u001b[1m46s\u001b[0m 51ms/step - accuracy: 0.5108 - loss: 1.2915 - val_accuracy: 0.5555 - val_loss: 1.1631\n",
      "Epoch 10/20\n",
      "\u001b[1m898/898\u001b[0m \u001b[32m━━━━━━━━━━━━━━━━━━━━\u001b[0m\u001b[37m\u001b[0m \u001b[1m47s\u001b[0m 52ms/step - accuracy: 0.5210 - loss: 1.2658 - val_accuracy: 0.5739 - val_loss: 1.1212\n",
      "Epoch 11/20\n",
      "\u001b[1m898/898\u001b[0m \u001b[32m━━━━━━━━━━━━━━━━━━━━\u001b[0m\u001b[37m\u001b[0m \u001b[1m46s\u001b[0m 51ms/step - accuracy: 0.5258 - loss: 1.2663 - val_accuracy: 0.5617 - val_loss: 1.1393\n",
      "Epoch 12/20\n",
      "\u001b[1m898/898\u001b[0m \u001b[32m━━━━━━━━━━━━━━━━━━━━\u001b[0m\u001b[37m\u001b[0m \u001b[1m47s\u001b[0m 52ms/step - accuracy: 0.5261 - loss: 1.2460 - val_accuracy: 0.5820 - val_loss: 1.1008\n",
      "Epoch 13/20\n",
      "\u001b[1m898/898\u001b[0m \u001b[32m━━━━━━━━━━━━━━━━━━━━\u001b[0m\u001b[37m\u001b[0m \u001b[1m47s\u001b[0m 53ms/step - accuracy: 0.5336 - loss: 1.2234 - val_accuracy: 0.5862 - val_loss: 1.0831\n",
      "Epoch 14/20\n",
      "\u001b[1m898/898\u001b[0m \u001b[32m━━━━━━━━━━━━━━━━━━━━\u001b[0m\u001b[37m\u001b[0m \u001b[1m51s\u001b[0m 56ms/step - accuracy: 0.5394 - loss: 1.2151 - val_accuracy: 0.5982 - val_loss: 1.0696\n",
      "Epoch 15/20\n",
      "\u001b[1m898/898\u001b[0m \u001b[32m━━━━━━━━━━━━━━━━━━━━\u001b[0m\u001b[37m\u001b[0m \u001b[1m48s\u001b[0m 53ms/step - accuracy: 0.5376 - loss: 1.2084 - val_accuracy: 0.5890 - val_loss: 1.0834\n",
      "Epoch 16/20\n",
      "\u001b[1m898/898\u001b[0m \u001b[32m━━━━━━━━━━━━━━━━━━━━\u001b[0m\u001b[37m\u001b[0m \u001b[1m47s\u001b[0m 51ms/step - accuracy: 0.5447 - loss: 1.2046 - val_accuracy: 0.6018 - val_loss: 1.0642\n",
      "Epoch 17/20\n",
      "\u001b[1m898/898\u001b[0m \u001b[32m━━━━━━━━━━━━━━━━━━━━\u001b[0m\u001b[37m\u001b[0m \u001b[1m47s\u001b[0m 53ms/step - accuracy: 0.5523 - loss: 1.1868 - val_accuracy: 0.5963 - val_loss: 1.0584\n",
      "Epoch 18/20\n",
      "\u001b[1m898/898\u001b[0m \u001b[32m━━━━━━━━━━━━━━━━━━━━\u001b[0m\u001b[37m\u001b[0m \u001b[1m46s\u001b[0m 51ms/step - accuracy: 0.5484 - loss: 1.1866 - val_accuracy: 0.6101 - val_loss: 1.0303\n",
      "Epoch 19/20\n",
      "\u001b[1m898/898\u001b[0m \u001b[32m━━━━━━━━━━━━━━━━━━━━\u001b[0m\u001b[37m\u001b[0m \u001b[1m47s\u001b[0m 53ms/step - accuracy: 0.5585 - loss: 1.1831 - val_accuracy: 0.6102 - val_loss: 1.0312\n",
      "Epoch 20/20\n",
      "\u001b[1m898/898\u001b[0m \u001b[32m━━━━━━━━━━━━━━━━━━━━\u001b[0m\u001b[37m\u001b[0m \u001b[1m47s\u001b[0m 52ms/step - accuracy: 0.5590 - loss: 1.1711 - val_accuracy: 0.6172 - val_loss: 1.0083\n"
     ]
    }
   ],
   "source": [
    "#Model training\n",
    "history = model.fit(datagen.flow(data_train, labels_train_encoder, batch_size=32), \n",
    "                    epochs=20, \n",
    "                    validation_data=(data_test, labels_test_encoder))\n",
    "\n",
    "#Saving the model\n",
    "model.save('emotion_recognizer.keras')"
   ]
  },
  {
   "cell_type": "code",
   "execution_count": 29,
   "id": "aefe8cfd-10f2-40fe-b094-b975e5b83184",
   "metadata": {},
   "outputs": [
    {
     "name": "stdout",
     "output_type": "stream",
     "text": [
      "\u001b[1m898/898\u001b[0m \u001b[32m━━━━━━━━━━━━━━━━━━━━\u001b[0m\u001b[37m\u001b[0m \u001b[1m13s\u001b[0m 14ms/step - accuracy: 0.5324 - loss: 1.1666\n",
      "Test accuracy: 61.72%\n"
     ]
    }
   ],
   "source": [
    "#Model evaluation\n",
    "loss, accuracy = model.evaluate(data_test, labels_test_encoder)\n",
    "print(f'Test accuracy: {accuracy * 100:.2f}%')"
   ]
  },
  {
   "cell_type": "code",
   "execution_count": 30,
   "id": "88360132-7555-4568-beaa-d36d815274b5",
   "metadata": {},
   "outputs": [
    {
     "data": {
      "image/png": "[encoded data removed]",
      "text/plain": [
       "<Figure size 1200x400 with 2 Axes>"
      ]
     },
     "metadata": {},
     "output_type": "display_data"
    }
   ],
   "source": [
    "#Visualization of learning history\n",
    "plt.figure(figsize=(12, 4))\n",
    "plt.subplot(1, 2, 1)\n",
    "plt.plot(history.history['loss'], label='Training Loss')\n",
    "plt.plot(history.history['val_loss'], label='Validation Loss')\n",
    "plt.legend()\n",
    "plt.title('Loss')\n",
    "\n",
    "plt.subplot(1, 2, 2)\n",
    "plt.plot(history.history['accuracy'], label='Training Accuracy')\n",
    "plt.plot(history.history['val_accuracy'], label='Validation Accuracy')\n",
    "plt.legend()\n",
    "plt.title('Accuracy')\n",
    "plt.show()"
   ]
  },
  {
   "cell_type": "markdown",
   "id": "fd6ff658-f6c3-4cc6-99e3-89e1e422d48c",
   "metadata": {},
   "source": [
    "## Music Recomend"
   ]
  },
  {
   "cell_type": "code",
   "execution_count": 35,
   "id": "6e93c077-8d5e-4c4c-96a8-d743ac12ff47",
   "metadata": {},
   "outputs": [
    {
     "data": {
      "text/plain": [
       "array(['angry', 'disgust', 'fear', 'happy', 'neutral', 'sad', 'surprise'],\n",
       "      dtype='<U8')"
      ]
     },
     "execution_count": 35,
     "metadata": {},
     "output_type": "execute_result"
    }
   ],
   "source": [
    "np.unique (labels_train)"
   ]
  },
  {
   "cell_type": "markdown",
   "id": "3a5cca57-42c5-443a-868d-d3c6fe1c8d0b",
   "metadata": {},
   "source": [
    "Let's take the music from https://www.last.fm"
   ]
  },
  {
   "cell_type": "code",
   "execution_count": 100,
   "id": "7d97c348-0f92-4347-95d8-dda786ad8283",
   "metadata": {},
   "outputs": [],
   "source": [
    "urls = ['rock', 'blues', 'classical', 'dance', 'indie', 'acoustic', 'reggae']\n",
    "music_dict = {}\n",
    "artists_dict = {}\n",
    "combined = {}\n",
    "\n",
    "for url in urls:\n",
    "    responce = requests.get(f'https://www.last.fm/tag/{url}')\n",
    "    if response.status_code != 200:\n",
    "        print(f\"Failed to retrieve data from https://www.last.fm/tag/{url}\")\n",
    "    soup = BeautifulSoup(response.content, 'html.parser')\n",
    "    track_elements = soup.find_all(class_='chartlist-name')\n",
    "    artists = soup.find_all(class_='chartlist-artist')\n",
    "    #Extracting track names and artists\n",
    "    music_dict = [element.text.strip() for element in track_elements]\n",
    "    artists_dict = [element.text.strip() for element in artists]\n",
    "    combined[f'{url}'] = [item1 + ' - ' + item2 for item1, item2 in zip(artists_dict1, music_dict1)]"
   ]
  },
  {
   "cell_type": "code",
   "execution_count": 101,
   "id": "09b55cb5-0af6-4f6c-a28b-e0747db1987f",
   "metadata": {},
   "outputs": [],
   "source": [
    "combined[\"angry\"] = combined.pop(\"rock\")\n",
    "combined[\"disgust\"] = combined.pop(\"blues\")\n",
    "combined[\"fear\"] = combined.pop(\"classical\")\n",
    "combined[\"happy\"] = combined.pop(\"dance\")\n",
    "combined[\"neutral\"] = combined.pop(\"indie\")\n",
    "combined[\"sad\"] = combined.pop(\"acoustic\")\n",
    "combined[\"surprise\"] = combined.pop(\"reggae\")"
   ]
  },
  {
   "cell_type": "code",
   "execution_count": 102,
   "id": "7d41263f-335a-4231-8d0e-89ae8c5fa6e2",
   "metadata": {},
   "outputs": [
    {
     "data": {
      "text/plain": [
       "{'angry': ['Nirvana - Smells Like Teen Spirit',\n",
       "  'The Killers - Mr. Brightside',\n",
       "  'Radiohead - Creep',\n",
       "  'Nirvana - Come as You Are',\n",
       "  'Gorillaz - Feel Good Inc.',\n",
       "  'Coldplay - Yellow',\n",
       "  'Coldplay - Viva la Vida',\n",
       "  'Radiohead - Karma Police',\n",
       "  'Radiohead - No Surprises',\n",
       "  'Red Hot Chili Peppers - Californication'],\n",
       " 'disgust': ['Nirvana - Smells Like Teen Spirit',\n",
       "  'The Killers - Mr. Brightside',\n",
       "  'Radiohead - Creep',\n",
       "  'Nirvana - Come as You Are',\n",
       "  'Gorillaz - Feel Good Inc.',\n",
       "  'Coldplay - Yellow',\n",
       "  'Coldplay - Viva la Vida',\n",
       "  'Radiohead - Karma Police',\n",
       "  'Radiohead - No Surprises',\n",
       "  'Red Hot Chili Peppers - Californication'],\n",
       " 'fear': ['Nirvana - Smells Like Teen Spirit',\n",
       "  'The Killers - Mr. Brightside',\n",
       "  'Radiohead - Creep',\n",
       "  'Nirvana - Come as You Are',\n",
       "  'Gorillaz - Feel Good Inc.',\n",
       "  'Coldplay - Yellow',\n",
       "  'Coldplay - Viva la Vida',\n",
       "  'Radiohead - Karma Police',\n",
       "  'Radiohead - No Surprises',\n",
       "  'Red Hot Chili Peppers - Californication'],\n",
       " 'happy': ['Nirvana - Smells Like Teen Spirit',\n",
       "  'The Killers - Mr. Brightside',\n",
       "  'Radiohead - Creep',\n",
       "  'Nirvana - Come as You Are',\n",
       "  'Gorillaz - Feel Good Inc.',\n",
       "  'Coldplay - Yellow',\n",
       "  'Coldplay - Viva la Vida',\n",
       "  'Radiohead - Karma Police',\n",
       "  'Radiohead - No Surprises',\n",
       "  'Red Hot Chili Peppers - Californication'],\n",
       " 'neutral': ['Nirvana - Smells Like Teen Spirit',\n",
       "  'The Killers - Mr. Brightside',\n",
       "  'Radiohead - Creep',\n",
       "  'Nirvana - Come as You Are',\n",
       "  'Gorillaz - Feel Good Inc.',\n",
       "  'Coldplay - Yellow',\n",
       "  'Coldplay - Viva la Vida',\n",
       "  'Radiohead - Karma Police',\n",
       "  'Radiohead - No Surprises',\n",
       "  'Red Hot Chili Peppers - Californication'],\n",
       " 'sad': ['Nirvana - Smells Like Teen Spirit',\n",
       "  'The Killers - Mr. Brightside',\n",
       "  'Radiohead - Creep',\n",
       "  'Nirvana - Come as You Are',\n",
       "  'Gorillaz - Feel Good Inc.',\n",
       "  'Coldplay - Yellow',\n",
       "  'Coldplay - Viva la Vida',\n",
       "  'Radiohead - Karma Police',\n",
       "  'Radiohead - No Surprises',\n",
       "  'Red Hot Chili Peppers - Californication'],\n",
       " 'surprise': ['Nirvana - Smells Like Teen Spirit',\n",
       "  'The Killers - Mr. Brightside',\n",
       "  'Radiohead - Creep',\n",
       "  'Nirvana - Come as You Are',\n",
       "  'Gorillaz - Feel Good Inc.',\n",
       "  'Coldplay - Yellow',\n",
       "  'Coldplay - Viva la Vida',\n",
       "  'Radiohead - Karma Police',\n",
       "  'Radiohead - No Surprises',\n",
       "  'Red Hot Chili Peppers - Californication']}"
      ]
     },
     "execution_count": 102,
     "metadata": {},
     "output_type": "execute_result"
    }
   ],
   "source": [
    "combined"
   ]
  },
  {
   "cell_type": "code",
   "execution_count": 103,
   "id": "b68d3c80-f221-4f7e-9958-9fd17c943f6d",
   "metadata": {},
   "outputs": [],
   "source": [
    "def recommend_song(emotion):\n",
    "    return random.choice(combined[emotion])"
   ]
  },
  {
   "cell_type": "code",
   "execution_count": 104,
   "id": "ec55a67d-092e-4386-8c06-d36c906b0620",
   "metadata": {},
   "outputs": [
    {
     "name": "stdout",
     "output_type": "stream",
     "text": [
      "\u001b[1m1/1\u001b[0m \u001b[32m━━━━━━━━━━━━━━━━━━━━\u001b[0m\u001b[37m\u001b[0m \u001b[1m0s\u001b[0m 63ms/step\n"
     ]
    }
   ],
   "source": [
    "#Example\n",
    "image_path = \"D:/images.jpg\"\n",
    "img = cv2.imread(image_path, cv2.IMREAD_GRAYSCALE)\n",
    "img = cv2.resize(img, (image_size, image_size))\n",
    "img = img / 255.0\n",
    "img = img.reshape(1, image_size, image_size, 1)\n",
    "\n",
    "prediction = model.predict(img)\n",
    "predicted_label = label_encoder.inverse_transform([np.argmax(prediction)])\n",
    "emotion = predicted_label[0]"
   ]
  },
  {
   "cell_type": "code",
   "execution_count": 105,
   "id": "3dd2f0ba-579d-4b58-aac1-54998b2864b2",
   "metadata": {},
   "outputs": [
    {
     "name": "stdout",
     "output_type": "stream",
     "text": [
      "Predicted Emotion: sad\n",
      "Recommended Song: Radiohead - No Surprises\n"
     ]
    }
   ],
   "source": [
    "song = recommend_song(emotion)\n",
    "print(f'Predicted Emotion: {emotion}')\n",
    "print(f'Recommended Song: {song}')"
   ]
  },
  {
   "cell_type": "code",
   "execution_count": null,
   "id": "09989812-706c-4e54-a8e1-93eb307e66bf",
   "metadata": {},
   "outputs": [],
   "source": []
  },
  {
   "cell_type": "code",
   "execution_count": null,
   "id": "707bfa81-7b78-4c21-9391-1b895f523bce",
   "metadata": {},
   "outputs": [],
   "source": []
  }
 ],
 "metadata": {
  "kernelspec": {
   "display_name": "Python 3 (ipykernel)",
   "language": "python",
   "name": "python3"
  },
  "language_info": {
   "codemirror_mode": {
    "name": "ipython",
    "version": 3
   },
   "file_extension": ".py",
   "mimetype": "text/x-python",
   "name": "python",
   "nbconvert_exporter": "python",
   "pygments_lexer": "ipython3",
   "version": "3.11.5"
  }
 },
 "nbformat": 4,
 "nbformat_minor": 5
}
